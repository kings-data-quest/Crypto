{
 "cells": [
  {
   "cell_type": "code",
   "execution_count": 11,
   "metadata": {},
   "outputs": [],
   "source": [
    "import pandas as pd\n",
    "import numpy as np \n",
    "import matplotlib.pyplot as plt\n",
    "import os\n",
    "import statsmodels \n",
    "import seaborn as sns\n",
    "import scipy.stats as ss\n",
    "import statsmodels.graphics.tsaplots as sgt\n",
    "import statsmodels.tsa.stattools as sts \n",
    "import sklearn\n",
    "import arch\n",
    "import datetime as dt\n",
    "\n",
    "\n",
    "from pmdarima.arima import auto_arima\n",
    "from statsmodels.tsa.stattools import adfuller\n",
    "from statsmodels.stats.diagnostic import acorr_ljungbox, het_arch\n",
    "from statsmodels.stats.stattools import jarque_bera\n",
    "from statsmodels.tsa.arima.model import ARIMA\n",
    "from statsmodels.graphics.tsaplots import plot_acf, plot_pacf\n",
    "from tqdm import tqdm\n",
    "from time import sleep\n",
    "import warnings\n",
    "warnings.filterwarnings('ignore', category=Warning)\n",
    "sns.set()"
   ]
  },
  {
   "cell_type": "code",
   "execution_count": 12,
   "metadata": {},
   "outputs": [],
   "source": [
    "def read_csv(name:str):\n",
    "    df = pd.read_csv(f'../data/processed/{name}.csv')\n",
    "    df.Date = pd.to_datetime(df.Date)\n",
    "    df.set_index('Date', inplace = True)\n",
    "    df.asfreq('12H')\n",
    "    df.dropna(inplace = True)\n",
    "    return df"
   ]
  },
  {
   "cell_type": "code",
   "execution_count": 13,
   "metadata": {},
   "outputs": [],
   "source": [
    "df= read_csv('data_processed')\n",
    "df_test = read_csv('data_test')"
   ]
  },
  {
   "cell_type": "code",
   "execution_count": 14,
   "metadata": {},
   "outputs": [
    {
     "data": {
      "text/html": [
       "<div>\n",
       "<style scoped>\n",
       "    .dataframe tbody tr th:only-of-type {\n",
       "        vertical-align: middle;\n",
       "    }\n",
       "\n",
       "    .dataframe tbody tr th {\n",
       "        vertical-align: top;\n",
       "    }\n",
       "\n",
       "    .dataframe thead th {\n",
       "        text-align: right;\n",
       "    }\n",
       "</style>\n",
       "<table border=\"1\" class=\"dataframe\">\n",
       "  <thead>\n",
       "    <tr style=\"text-align: right;\">\n",
       "      <th></th>\n",
       "      <th>BTCUSDT</th>\n",
       "      <th>ETHUSDT</th>\n",
       "      <th>ADAUSDT</th>\n",
       "      <th>BNBUSDT</th>\n",
       "      <th>Ret_BTCUSDT</th>\n",
       "      <th>Ret_cum_BTCUSDT</th>\n",
       "      <th>Norm_BTCUSDT</th>\n",
       "      <th>Ret_ETHUSDT</th>\n",
       "      <th>Ret_cum_ETHUSDT</th>\n",
       "      <th>Norm_ETHUSDT</th>\n",
       "      <th>Ret_ADAUSDT</th>\n",
       "      <th>Ret_cum_ADAUSDT</th>\n",
       "      <th>Norm_ADAUSDT</th>\n",
       "      <th>Ret_BNBUSDT</th>\n",
       "      <th>Ret_cum_BNBUSDT</th>\n",
       "      <th>Norm_BNBUSDT</th>\n",
       "    </tr>\n",
       "    <tr>\n",
       "      <th>Date</th>\n",
       "      <th></th>\n",
       "      <th></th>\n",
       "      <th></th>\n",
       "      <th></th>\n",
       "      <th></th>\n",
       "      <th></th>\n",
       "      <th></th>\n",
       "      <th></th>\n",
       "      <th></th>\n",
       "      <th></th>\n",
       "      <th></th>\n",
       "      <th></th>\n",
       "      <th></th>\n",
       "      <th></th>\n",
       "      <th></th>\n",
       "      <th></th>\n",
       "    </tr>\n",
       "  </thead>\n",
       "  <tbody>\n",
       "    <tr>\n",
       "      <th>2018-06-01 12:00:00</th>\n",
       "      <td>7521.01</td>\n",
       "      <td>579.00</td>\n",
       "      <td>0.22038</td>\n",
       "      <td>14.2888</td>\n",
       "      <td>2.168340</td>\n",
       "      <td>2.168340</td>\n",
       "      <td>102.168340</td>\n",
       "      <td>1.466800</td>\n",
       "      <td>1.466800</td>\n",
       "      <td>101.466800</td>\n",
       "      <td>2.122335</td>\n",
       "      <td>2.122335</td>\n",
       "      <td>102.122335</td>\n",
       "      <td>3.692308</td>\n",
       "      <td>3.692308</td>\n",
       "      <td>103.692308</td>\n",
       "    </tr>\n",
       "    <tr>\n",
       "      <th>2018-06-02 00:00:00</th>\n",
       "      <td>7652.28</td>\n",
       "      <td>592.73</td>\n",
       "      <td>0.22428</td>\n",
       "      <td>14.5000</td>\n",
       "      <td>1.745377</td>\n",
       "      <td>3.913718</td>\n",
       "      <td>103.951563</td>\n",
       "      <td>2.371330</td>\n",
       "      <td>3.838130</td>\n",
       "      <td>103.872912</td>\n",
       "      <td>1.769671</td>\n",
       "      <td>3.892006</td>\n",
       "      <td>103.929564</td>\n",
       "      <td>1.478081</td>\n",
       "      <td>5.170388</td>\n",
       "      <td>105.224964</td>\n",
       "    </tr>\n",
       "    <tr>\n",
       "      <th>2018-06-02 12:00:00</th>\n",
       "      <td>7640.03</td>\n",
       "      <td>590.85</td>\n",
       "      <td>0.22648</td>\n",
       "      <td>14.6732</td>\n",
       "      <td>-0.160083</td>\n",
       "      <td>3.753635</td>\n",
       "      <td>103.785155</td>\n",
       "      <td>-0.317176</td>\n",
       "      <td>3.520953</td>\n",
       "      <td>103.543452</td>\n",
       "      <td>0.980917</td>\n",
       "      <td>4.872923</td>\n",
       "      <td>104.949027</td>\n",
       "      <td>1.194483</td>\n",
       "      <td>6.364871</td>\n",
       "      <td>106.481858</td>\n",
       "    </tr>\n",
       "    <tr>\n",
       "      <th>2018-06-03 00:00:00</th>\n",
       "      <td>7714.85</td>\n",
       "      <td>619.93</td>\n",
       "      <td>0.23284</td>\n",
       "      <td>14.7861</td>\n",
       "      <td>0.979316</td>\n",
       "      <td>4.732950</td>\n",
       "      <td>104.801539</td>\n",
       "      <td>4.921723</td>\n",
       "      <td>8.442676</td>\n",
       "      <td>108.639574</td>\n",
       "      <td>2.808195</td>\n",
       "      <td>7.681118</td>\n",
       "      <td>107.896200</td>\n",
       "      <td>0.769430</td>\n",
       "      <td>7.134301</td>\n",
       "      <td>107.301161</td>\n",
       "    </tr>\n",
       "    <tr>\n",
       "      <th>2018-06-03 12:00:00</th>\n",
       "      <td>7714.26</td>\n",
       "      <td>619.66</td>\n",
       "      <td>0.22659</td>\n",
       "      <td>14.6995</td>\n",
       "      <td>-0.007648</td>\n",
       "      <td>4.725303</td>\n",
       "      <td>104.793524</td>\n",
       "      <td>-0.043553</td>\n",
       "      <td>8.399123</td>\n",
       "      <td>108.592258</td>\n",
       "      <td>-2.684247</td>\n",
       "      <td>4.996871</td>\n",
       "      <td>105.000000</td>\n",
       "      <td>-0.585685</td>\n",
       "      <td>6.548616</td>\n",
       "      <td>106.672714</td>\n",
       "    </tr>\n",
       "  </tbody>\n",
       "</table>\n",
       "</div>"
      ],
      "text/plain": [
       "                     BTCUSDT  ETHUSDT  ADAUSDT  BNBUSDT  Ret_BTCUSDT   \n",
       "Date                                                                   \n",
       "2018-06-01 12:00:00  7521.01   579.00  0.22038  14.2888     2.168340  \\\n",
       "2018-06-02 00:00:00  7652.28   592.73  0.22428  14.5000     1.745377   \n",
       "2018-06-02 12:00:00  7640.03   590.85  0.22648  14.6732    -0.160083   \n",
       "2018-06-03 00:00:00  7714.85   619.93  0.23284  14.7861     0.979316   \n",
       "2018-06-03 12:00:00  7714.26   619.66  0.22659  14.6995    -0.007648   \n",
       "\n",
       "                     Ret_cum_BTCUSDT  Norm_BTCUSDT  Ret_ETHUSDT   \n",
       "Date                                                              \n",
       "2018-06-01 12:00:00         2.168340    102.168340     1.466800  \\\n",
       "2018-06-02 00:00:00         3.913718    103.951563     2.371330   \n",
       "2018-06-02 12:00:00         3.753635    103.785155    -0.317176   \n",
       "2018-06-03 00:00:00         4.732950    104.801539     4.921723   \n",
       "2018-06-03 12:00:00         4.725303    104.793524    -0.043553   \n",
       "\n",
       "                     Ret_cum_ETHUSDT  Norm_ETHUSDT  Ret_ADAUSDT   \n",
       "Date                                                              \n",
       "2018-06-01 12:00:00         1.466800    101.466800     2.122335  \\\n",
       "2018-06-02 00:00:00         3.838130    103.872912     1.769671   \n",
       "2018-06-02 12:00:00         3.520953    103.543452     0.980917   \n",
       "2018-06-03 00:00:00         8.442676    108.639574     2.808195   \n",
       "2018-06-03 12:00:00         8.399123    108.592258    -2.684247   \n",
       "\n",
       "                     Ret_cum_ADAUSDT  Norm_ADAUSDT  Ret_BNBUSDT   \n",
       "Date                                                              \n",
       "2018-06-01 12:00:00         2.122335    102.122335     3.692308  \\\n",
       "2018-06-02 00:00:00         3.892006    103.929564     1.478081   \n",
       "2018-06-02 12:00:00         4.872923    104.949027     1.194483   \n",
       "2018-06-03 00:00:00         7.681118    107.896200     0.769430   \n",
       "2018-06-03 12:00:00         4.996871    105.000000    -0.585685   \n",
       "\n",
       "                     Ret_cum_BNBUSDT  Norm_BNBUSDT  \n",
       "Date                                                \n",
       "2018-06-01 12:00:00         3.692308    103.692308  \n",
       "2018-06-02 00:00:00         5.170388    105.224964  \n",
       "2018-06-02 12:00:00         6.364871    106.481858  \n",
       "2018-06-03 00:00:00         7.134301    107.301161  \n",
       "2018-06-03 12:00:00         6.548616    106.672714  "
      ]
     },
     "execution_count": 14,
     "metadata": {},
     "output_type": "execute_result"
    }
   ],
   "source": [
    "df.head()"
   ]
  },
  {
   "cell_type": "code",
   "execution_count": 15,
   "metadata": {},
   "outputs": [],
   "source": [
    "def fit_auto(df, target, exogenous=None, exog=True, **kwargs):\n",
    "    if exog:\n",
    "        model = auto_arima(df[[f'Ret_{target}']], X=df[exogenous], \n",
    "                       max_order = None, max_p = 9, max_q = 9, max_d = 2, max_P = 6, max_Q = 6, max_D = 4,\n",
    "                       maxiter = 70, trend = 'ct')\n",
    "        print(model.summary())\n",
    "    else:\n",
    "        model = auto_arima(df[[f'Ret_{target}']], \n",
    "                       max_order = None, max_p = 9, max_q = 9, max_d = 2, max_P = 6, max_Q = 6, max_D = 4,\n",
    "                       maxiter = 70, trend = 'ct')\n",
    "        print(model.summary())\n",
    "    \n",
    "    return model\n",
    "\n",
    "\n"
   ]
  },
  {
   "cell_type": "code",
   "execution_count": 16,
   "metadata": {},
   "outputs": [],
   "source": [
    "start_date = '2021-12-18 12:00:00'\n",
    "end_date='2022-06-01 12:00:00'\n",
    "\n",
    "def fit_pred(model, target, exogenous: list = None, start_date = start_date, end_date= end_date, df_test=df_test, exog=True):\n",
    "    if exog:\n",
    "        df_auto_pred = pd.DataFrame(\n",
    "            model.predict(n_periods=len(df_test[start_date:end_date]), X=df_test[exogenous][start_date:end_date]),\n",
    "            index=df_test[start_date:end_date].index)\n",
    "    else:\n",
    "        df_auto_pred = pd.DataFrame(\n",
    "            model.predict(n_periods=len(df_test[start_date:end_date]), index=df_test[start_date:end_date].index))\n",
    "\n",
    "    plt.figure(figsize=(20, 5))\n",
    "    plt.plot(df_auto_pred, color=\"red\", label=\"Auto Model Predictions\")\n",
    "    plt.plot(df_test[f'Ret_{target}'][start_date:end_date], color=\"blue\", label=\"Real Data\")\n",
    "    plt.title(f\"Auto Model Predictions vs Real Data for {target}\", size=24)\n",
    "    plt.xlabel(\"Date\", size=16)\n",
    "    plt.ylabel(\"Return\", size=16)\n",
    "    plt.legend(fontsize=14)\n",
    "    plt.savefig(f'../reports/figures/{target}_prediction_vs_real.png')\n",
    "    plt.show()\n"
   ]
  },
  {
   "cell_type": "code",
   "execution_count": 17,
   "metadata": {},
   "outputs": [],
   "source": [
    "def analyze_residuals(model, name:str):\n",
    "    residuals_df = pd.DataFrame(model.resid())\n",
    "    print(residuals_df.describe())\n",
    "\n",
    "    residuals = model.resid()\n",
    "    lags = [1]\n",
    "    # Perform Ljung-Box test\n",
    "    lb_test = acorr_ljungbox(residuals, lags=lags, return_df=True)\n",
    "    lb_p_value = lb_test.iloc[0, 1]\n",
    "\n",
    "    # Perform Jarque-Bera test\n",
    "    jb_stat, jb_p_value, skew, kurtosis = jarque_bera(residuals)\n",
    "\n",
    "    # Perform heteroskedasticity test\n",
    "    het_test = het_arch(residuals)\n",
    "    het_p_value = het_test[1]\n",
    "\n",
    "    # Perform ADF test\n",
    "    adf_test = adfuller(residuals)\n",
    "    adf_p_value = round(adf_test[1], 3)\n",
    "\n",
    "    # Print summary of analysis\n",
    "    print(\"Residual Analysis:\")\n",
    "    print(\"================================\"*2)\n",
    "    print(f\"\\nLjung-Box (lag 1) p-value: {lb_p_value}\")\n",
    "    print(f\"\\nJarque-Bera p-value: {jb_p_value}\")\n",
    "    print(f\"\\nHeteroskedasticity p-value: {het_p_value}\")\n",
    "    print(f\"\\nADF p-value: {adf_p_value}\")\n",
    "    print(\"================================\"*2)\n",
    "    \n",
    "    print('\\n')\n",
    "\n",
    "\n",
    "    # Autocorrelation plot\n",
    "    fig, ax = plt.subplots(figsize=(7, 4))\n",
    "    plot_acf(residuals_df, lags=30, ax=ax)\n",
    "    plt.title(f'Autocorrelation of Residuals_{name}')\n",
    "    plt.xlabel('Lag')\n",
    "    plt.ylabel('Autocorrelation')\n",
    "    plt.savefig(f'../reports/figures/{name}_resid_acf.png')\n",
    "    plt.show()\n",
    "\n",
    "    # Partial autocorrelation plot\n",
    "    fig, ax = plt.subplots(figsize=(7, 4))\n",
    "    plot_pacf(residuals_df, lags=30, ax=ax)\n",
    "    plt.title(f'Partial Autocorrelation of Residuals_{name}')\n",
    "    plt.xlabel('Lag')\n",
    "    plt.ylabel('Partial Autocorrelation')\n",
    "    plt.savefig(f'../reports/figures/{name}_resid_pacf.png')\n",
    "    plt.show()\n",
    "    print('\\n')\n",
    "    model.plot_diagnostics(figsize=(20, 11))\n",
    "    plt.savefig(f'../reports/figures/{name}_diagnostics.png')\n",
    "    plt.show()\n",
    "\n"
   ]
  },
  {
   "cell_type": "code",
   "execution_count": null,
   "metadata": {},
   "outputs": [],
   "source": []
  },
  {
   "cell_type": "code",
   "execution_count": null,
   "metadata": {},
   "outputs": [],
   "source": [
    "model_arima_bnb = fit_auto(df, 'BNBUSDT', exog=False)"
   ]
  },
  {
   "cell_type": "code",
   "execution_count": null,
   "metadata": {},
   "outputs": [],
   "source": [
    "analyze_residuals(model_arima_bnb, 'BNBUSDT')"
   ]
  },
  {
   "cell_type": "code",
   "execution_count": null,
   "metadata": {},
   "outputs": [],
   "source": [
    "model_arima_bnb_exog = fit_auto(df, 'BNBUSDT', exogenous= ['Ret_BTCUSDT', 'Ret_ADAUSDT', 'Ret_ETHUSDT'])"
   ]
  },
  {
   "cell_type": "code",
   "execution_count": null,
   "metadata": {},
   "outputs": [],
   "source": [
    "analyze_residuals(model_arima_bnb_exog, 'BNBUSDT_exog')"
   ]
  },
  {
   "cell_type": "code",
   "execution_count": null,
   "metadata": {},
   "outputs": [],
   "source": [
    "fit_pred(model_arima_bnb_exog, 'BNBUSDT', exogenous= ['Ret_BTCUSDT', 'Ret_ADAUSDT', 'Ret_ETHUSDT'] )"
   ]
  },
  {
   "cell_type": "code",
   "execution_count": null,
   "metadata": {},
   "outputs": [],
   "source": [
    "model_arima_btc = fit_auto(df, 'BTCUSDT', exog=False)\n"
   ]
  },
  {
   "cell_type": "code",
   "execution_count": null,
   "metadata": {},
   "outputs": [],
   "source": [
    "analyze_residuals(model_arima_btc, 'BTCUSDT')"
   ]
  },
  {
   "cell_type": "code",
   "execution_count": null,
   "metadata": {},
   "outputs": [],
   "source": [
    "model_arima_btc_exog = fit_auto(df, 'BTCUSDT', exogenous= ['Ret_BNBUSDT', \"Ret_ETHUSDT\", 'Ret_ADAUSDT'])\n"
   ]
  },
  {
   "cell_type": "code",
   "execution_count": null,
   "metadata": {},
   "outputs": [],
   "source": [
    "analyze_residuals(model_arima_btc_exog, 'BTCUSDT_exog')"
   ]
  },
  {
   "cell_type": "code",
   "execution_count": null,
   "metadata": {},
   "outputs": [],
   "source": [
    "fit_pred(model_arima_btc_exog, 'BTCUSDT', exogenous= ['Ret_BNBUSDT', \"Ret_ETHUSDT\", 'Ret_ADAUSDT'] )"
   ]
  },
  {
   "cell_type": "code",
   "execution_count": null,
   "metadata": {},
   "outputs": [],
   "source": [
    "\n",
    "\n",
    "model_arima_ada = fit_auto(df, 'ADAUSDT', exog=False)\n"
   ]
  },
  {
   "cell_type": "code",
   "execution_count": null,
   "metadata": {},
   "outputs": [],
   "source": [
    "analyze_residuals(model_arima_ada, 'ADAUSDT')"
   ]
  },
  {
   "cell_type": "code",
   "execution_count": null,
   "metadata": {},
   "outputs": [],
   "source": [
    "model_arima_ada_exog = fit_auto(df, 'ADAUSDT', exogenous=['Ret_BTCUSDT', 'Ret_ETHUSDT', 'Ret_BNBUSDT'])\n"
   ]
  },
  {
   "cell_type": "code",
   "execution_count": null,
   "metadata": {},
   "outputs": [],
   "source": [
    "analyze_residuals(model_arima_ada_exog, 'ADAUSDT_exog')"
   ]
  },
  {
   "cell_type": "code",
   "execution_count": null,
   "metadata": {},
   "outputs": [],
   "source": [
    "fit_pred(model_arima_ada_exog, 'ADAUSDT', exogenous=['Ret_BTCUSDT', 'Ret_ETHUSDT', 'Ret_BNBUSDT'])"
   ]
  },
  {
   "cell_type": "code",
   "execution_count": null,
   "metadata": {},
   "outputs": [],
   "source": [
    "\n",
    "model_arima_eth = fit_auto(df, 'ETHUSDT', exog=False)\n"
   ]
  },
  {
   "cell_type": "code",
   "execution_count": null,
   "metadata": {},
   "outputs": [],
   "source": [
    "analyze_residuals(model_arima_eth, 'ETHUSDT')"
   ]
  },
  {
   "cell_type": "code",
   "execution_count": null,
   "metadata": {},
   "outputs": [],
   "source": [
    "model_arima_eth_exog = fit_auto(df, 'ETHUSDT', exogenous=['Ret_BTCUSDT', 'Ret_BNBUSDT', 'Ret_ADAUSDT'])"
   ]
  },
  {
   "cell_type": "code",
   "execution_count": null,
   "metadata": {},
   "outputs": [],
   "source": [
    "analyze_residuals(model_arima_eth_exog, 'ETHUSDT_exog')"
   ]
  },
  {
   "cell_type": "code",
   "execution_count": null,
   "metadata": {},
   "outputs": [],
   "source": [
    "fit_pred(model_arima_eth_exog, 'ETHUSDT', exogenous=['Ret_BTCUSDT', 'Ret_BNBUSDT', 'Ret_ADAUSDT'] )"
   ]
  },
  {
   "attachments": {},
   "cell_type": "markdown",
   "metadata": {},
   "source": [
    "##### Forcasting Volitilty "
   ]
  },
  {
   "cell_type": "code",
   "execution_count": null,
   "metadata": {},
   "outputs": [],
   "source": []
  },
  {
   "cell_type": "code",
   "execution_count": null,
   "metadata": {},
   "outputs": [],
   "source": [
    "df_test.head()[start_date:]"
   ]
  },
  {
   "cell_type": "code",
   "execution_count": null,
   "metadata": {},
   "outputs": [],
   "source": [
    "\n",
    "df_com = pd.concat([df, df_test])"
   ]
  },
  {
   "cell_type": "code",
   "execution_count": null,
   "metadata": {},
   "outputs": [],
   "source": [
    "df_com.tail()"
   ]
  },
  {
   "cell_type": "code",
   "execution_count": null,
   "metadata": {},
   "outputs": [],
   "source": []
  },
  {
   "cell_type": "code",
   "execution_count": null,
   "metadata": {},
   "outputs": [],
   "source": [
    "def garch_volatility(column, df = df_com, df_test = df_test, start_date = start_date):\n",
    "\n",
    "    model = arch.arch_model(df[f'Ret_{column}'], vol='Garch', p=1, q=1)\n",
    "\n",
    "    # Fit the model\n",
    "    results = model.fit(last_obs=start_date,  update_freq=10)\n",
    "    \n",
    "    #forcast \n",
    "    pred_garch = results.forecast(horizon=1, align='target')\n",
    "\n",
    "\n",
    "    # Plot the estimated volatility\n",
    "    fig, ax = plt.subplots(figsize=(20, 6))\n",
    "    pred_garch.residual_variance[start_date:].plot(figsize = (20,5), color = \"red\", zorder = 2, ax = ax)\n",
    "    df_test[f'Ret_{column}'].abs().plot(color = \"blue\", zorder = 1, ax = ax)\n",
    "    plt.title(\"Volatility Predictions\", size = 24)    \n",
    "    ax.set_xlabel('Time', fontsize = 15)\n",
    "    ax.set_ylabel('Volatility', fontsize = 17)\n",
    "    ax.set_title(f'GARCH Estimated Volatility {column}', fontsize = 20)\n",
    "    ax.legend()\n",
    "    plt.savefig(f'../reports/figures/Ret_{column}_garch_forcast.png')\n",
    "    plt.show()\n"
   ]
  },
  {
   "cell_type": "code",
   "execution_count": null,
   "metadata": {},
   "outputs": [],
   "source": [
    "garch_volatility('BNBUSDT')"
   ]
  },
  {
   "cell_type": "code",
   "execution_count": null,
   "metadata": {},
   "outputs": [],
   "source": [
    "garch_volatility('ADAUSDT')"
   ]
  },
  {
   "cell_type": "code",
   "execution_count": null,
   "metadata": {},
   "outputs": [],
   "source": [
    "garch_volatility('ETHUSDT')"
   ]
  },
  {
   "cell_type": "code",
   "execution_count": null,
   "metadata": {},
   "outputs": [],
   "source": [
    " garch_volatility('BTCUSDT')"
   ]
  },
  {
   "cell_type": "code",
   "execution_count": null,
   "metadata": {},
   "outputs": [],
   "source": []
  },
  {
   "cell_type": "code",
   "execution_count": null,
   "metadata": {},
   "outputs": [],
   "source": []
  },
  {
   "cell_type": "code",
   "execution_count": null,
   "metadata": {},
   "outputs": [],
   "source": []
  },
  {
   "cell_type": "code",
   "execution_count": null,
   "metadata": {},
   "outputs": [],
   "source": []
  }
 ],
 "metadata": {
  "kernelspec": {
   "display_name": "Time_Series",
   "language": "python",
   "name": "python3"
  },
  "language_info": {
   "codemirror_mode": {
    "name": "ipython",
    "version": 3
   },
   "file_extension": ".py",
   "mimetype": "text/x-python",
   "name": "python",
   "nbconvert_exporter": "python",
   "pygments_lexer": "ipython3",
   "version": "3.10.0"
  },
  "orig_nbformat": 4
 },
 "nbformat": 4,
 "nbformat_minor": 2
}
