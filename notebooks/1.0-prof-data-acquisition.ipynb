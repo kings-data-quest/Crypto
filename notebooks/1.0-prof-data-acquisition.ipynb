{
 "cells": [
  {
   "cell_type": "code",
   "execution_count": 2,
   "metadata": {},
   "outputs": [],
   "source": [
    "import pandas as pd\n",
    "import seaborn as sns\n",
    "import numpy as np\n",
    "import pymysql\n",
    "\n",
    "\n",
    "from sqlalchemy import create_engine\n",
    "from tqdm import tqdm\n",
    "from binance import Client \n",
    "sns.set()\n",
    "pymysql.install_as_MySQLdb()\n"
   ]
  },
  {
   "cell_type": "code",
   "execution_count": 3,
   "metadata": {},
   "outputs": [],
   "source": [
    "engine = create_engine('sqlite:///Binance_daily.db')"
   ]
  },
  {
   "cell_type": "code",
   "execution_count": 4,
   "metadata": {},
   "outputs": [],
   "source": [
    "client = Client()"
   ]
  },
  {
   "cell_type": "code",
   "execution_count": 5,
   "metadata": {},
   "outputs": [],
   "source": [
    "symbols = ['BTCUSDT','ETHUSDT', 'ADAUSDT', 'BNBUSDT']"
   ]
  },
  {
   "cell_type": "code",
   "execution_count": 6,
   "metadata": {},
   "outputs": [],
   "source": [
    "def get_data(symbol, interval = client.KLINE_INTERVAL_12HOUR, start = '2018-06-01'):\n",
    "    temp = client.get_historical_klines(symbol, interval, start)\n",
    "    temp = pd.DataFrame(temp)\n",
    "    temp = temp.iloc[:,:6]\n",
    "    temp.columns = [\"Date\", \"Open\", \"High\", \"Low\", \"Close\", \"Volume\"]\n",
    "    temp.Date = pd.to_datetime(temp.Date, unit = \"ms\")\n",
    "    temp = temp.set_index(\"Date\", drop = True)\n",
    "    temp = temp.astype(float)\n",
    "    return temp"
   ]
  },
  {
   "cell_type": "code",
   "execution_count": 7,
   "metadata": {},
   "outputs": [
    {
     "name": "stderr",
     "output_type": "stream",
     "text": [
      "100%|██████████| 4/4 [00:38<00:00,  9.70s/it]\n"
     ]
    }
   ],
   "source": [
    "for coin in tqdm(symbols):\n",
    "    df = get_data(coin)\n",
    "    df.to_sql(coin, if_exists= 'replace', con = engine)"
   ]
  },
  {
   "cell_type": "code",
   "execution_count": 8,
   "metadata": {},
   "outputs": [],
   "source": [
    "def qry(symbol):\n",
    "    df = pd.read_sql(symbol, engine)\n",
    "    df = df.set_index('Date')\n",
    "    df = df.asfreq('12H')\n",
    "    return df.Close"
   ]
  },
  {
   "cell_type": "code",
   "execution_count": 9,
   "metadata": {},
   "outputs": [],
   "source": [
    "def apply_techinical(df):\n",
    "    \n",
    "    for column in df.columns.to_list():\n",
    "        #calculating returns\n",
    "        df[f'Ret_{column}'] = df[column].pct_change().mul(100)\n",
    "        df[f'Ret_cum_{column}'] = df[f'Ret_{column}'].cumsum()\n",
    "        #normalizing values\n",
    "        benchmark = df.loc[:,column][0]\n",
    "        df[f'Norm_{column}'] = df[column].div(benchmark).mul(100)\n",
    "    return df\n",
    "        "
   ]
  },
  {
   "cell_type": "code",
   "execution_count": 10,
   "metadata": {},
   "outputs": [],
   "source": [
    "def process_coin(symbols):\n",
    "    df_list = []\n",
    "    \n",
    "    for coin in symbols:\n",
    "        df = qry(coin)\n",
    "        df.name = coin \n",
    "        df_list.append(df)\n",
    "    df = pd.DataFrame(df_list).T\n",
    "    df = apply_techinical(df)\n",
    "    \n",
    "    return df"
   ]
  },
  {
   "cell_type": "code",
   "execution_count": 11,
   "metadata": {},
   "outputs": [],
   "source": [
    "df = process_coin(symbols = symbols)"
   ]
  },
  {
   "cell_type": "code",
   "execution_count": 12,
   "metadata": {},
   "outputs": [
    {
     "data": {
      "text/html": [
       "<div>\n",
       "<style scoped>\n",
       "    .dataframe tbody tr th:only-of-type {\n",
       "        vertical-align: middle;\n",
       "    }\n",
       "\n",
       "    .dataframe tbody tr th {\n",
       "        vertical-align: top;\n",
       "    }\n",
       "\n",
       "    .dataframe thead th {\n",
       "        text-align: right;\n",
       "    }\n",
       "</style>\n",
       "<table border=\"1\" class=\"dataframe\">\n",
       "  <thead>\n",
       "    <tr style=\"text-align: right;\">\n",
       "      <th></th>\n",
       "      <th>BTCUSDT</th>\n",
       "      <th>ETHUSDT</th>\n",
       "      <th>ADAUSDT</th>\n",
       "      <th>BNBUSDT</th>\n",
       "      <th>Ret_BTCUSDT</th>\n",
       "      <th>Ret_cum_BTCUSDT</th>\n",
       "      <th>Norm_BTCUSDT</th>\n",
       "      <th>Ret_ETHUSDT</th>\n",
       "      <th>Ret_cum_ETHUSDT</th>\n",
       "      <th>Norm_ETHUSDT</th>\n",
       "      <th>Ret_ADAUSDT</th>\n",
       "      <th>Ret_cum_ADAUSDT</th>\n",
       "      <th>Norm_ADAUSDT</th>\n",
       "      <th>Ret_BNBUSDT</th>\n",
       "      <th>Ret_cum_BNBUSDT</th>\n",
       "      <th>Norm_BNBUSDT</th>\n",
       "    </tr>\n",
       "    <tr>\n",
       "      <th>Date</th>\n",
       "      <th></th>\n",
       "      <th></th>\n",
       "      <th></th>\n",
       "      <th></th>\n",
       "      <th></th>\n",
       "      <th></th>\n",
       "      <th></th>\n",
       "      <th></th>\n",
       "      <th></th>\n",
       "      <th></th>\n",
       "      <th></th>\n",
       "      <th></th>\n",
       "      <th></th>\n",
       "      <th></th>\n",
       "      <th></th>\n",
       "      <th></th>\n",
       "    </tr>\n",
       "  </thead>\n",
       "  <tbody>\n",
       "    <tr>\n",
       "      <th>2018-06-01 00:00:00</th>\n",
       "      <td>7361.39</td>\n",
       "      <td>570.63</td>\n",
       "      <td>0.21580</td>\n",
       "      <td>13.7800</td>\n",
       "      <td>NaN</td>\n",
       "      <td>NaN</td>\n",
       "      <td>100.000000</td>\n",
       "      <td>NaN</td>\n",
       "      <td>NaN</td>\n",
       "      <td>100.000000</td>\n",
       "      <td>NaN</td>\n",
       "      <td>NaN</td>\n",
       "      <td>100.000000</td>\n",
       "      <td>NaN</td>\n",
       "      <td>NaN</td>\n",
       "      <td>100.000000</td>\n",
       "    </tr>\n",
       "    <tr>\n",
       "      <th>2018-06-01 12:00:00</th>\n",
       "      <td>7521.01</td>\n",
       "      <td>579.00</td>\n",
       "      <td>0.22038</td>\n",
       "      <td>14.2888</td>\n",
       "      <td>2.168340</td>\n",
       "      <td>2.168340</td>\n",
       "      <td>102.168340</td>\n",
       "      <td>1.466800</td>\n",
       "      <td>1.466800</td>\n",
       "      <td>101.466800</td>\n",
       "      <td>2.122335</td>\n",
       "      <td>2.122335</td>\n",
       "      <td>102.122335</td>\n",
       "      <td>3.692308</td>\n",
       "      <td>3.692308</td>\n",
       "      <td>103.692308</td>\n",
       "    </tr>\n",
       "    <tr>\n",
       "      <th>2018-06-02 00:00:00</th>\n",
       "      <td>7652.28</td>\n",
       "      <td>592.73</td>\n",
       "      <td>0.22428</td>\n",
       "      <td>14.5000</td>\n",
       "      <td>1.745377</td>\n",
       "      <td>3.913718</td>\n",
       "      <td>103.951563</td>\n",
       "      <td>2.371330</td>\n",
       "      <td>3.838130</td>\n",
       "      <td>103.872912</td>\n",
       "      <td>1.769671</td>\n",
       "      <td>3.892006</td>\n",
       "      <td>103.929564</td>\n",
       "      <td>1.478081</td>\n",
       "      <td>5.170388</td>\n",
       "      <td>105.224964</td>\n",
       "    </tr>\n",
       "    <tr>\n",
       "      <th>2018-06-02 12:00:00</th>\n",
       "      <td>7640.03</td>\n",
       "      <td>590.85</td>\n",
       "      <td>0.22648</td>\n",
       "      <td>14.6732</td>\n",
       "      <td>-0.160083</td>\n",
       "      <td>3.753635</td>\n",
       "      <td>103.785155</td>\n",
       "      <td>-0.317176</td>\n",
       "      <td>3.520953</td>\n",
       "      <td>103.543452</td>\n",
       "      <td>0.980917</td>\n",
       "      <td>4.872923</td>\n",
       "      <td>104.949027</td>\n",
       "      <td>1.194483</td>\n",
       "      <td>6.364871</td>\n",
       "      <td>106.481858</td>\n",
       "    </tr>\n",
       "    <tr>\n",
       "      <th>2018-06-03 00:00:00</th>\n",
       "      <td>7714.85</td>\n",
       "      <td>619.93</td>\n",
       "      <td>0.23284</td>\n",
       "      <td>14.7861</td>\n",
       "      <td>0.979316</td>\n",
       "      <td>4.732950</td>\n",
       "      <td>104.801539</td>\n",
       "      <td>4.921723</td>\n",
       "      <td>8.442676</td>\n",
       "      <td>108.639574</td>\n",
       "      <td>2.808195</td>\n",
       "      <td>7.681118</td>\n",
       "      <td>107.896200</td>\n",
       "      <td>0.769430</td>\n",
       "      <td>7.134301</td>\n",
       "      <td>107.301161</td>\n",
       "    </tr>\n",
       "  </tbody>\n",
       "</table>\n",
       "</div>"
      ],
      "text/plain": [
       "                     BTCUSDT  ETHUSDT  ADAUSDT  BNBUSDT  Ret_BTCUSDT   \n",
       "Date                                                                   \n",
       "2018-06-01 00:00:00  7361.39   570.63  0.21580  13.7800          NaN  \\\n",
       "2018-06-01 12:00:00  7521.01   579.00  0.22038  14.2888     2.168340   \n",
       "2018-06-02 00:00:00  7652.28   592.73  0.22428  14.5000     1.745377   \n",
       "2018-06-02 12:00:00  7640.03   590.85  0.22648  14.6732    -0.160083   \n",
       "2018-06-03 00:00:00  7714.85   619.93  0.23284  14.7861     0.979316   \n",
       "\n",
       "                     Ret_cum_BTCUSDT  Norm_BTCUSDT  Ret_ETHUSDT   \n",
       "Date                                                              \n",
       "2018-06-01 00:00:00              NaN    100.000000          NaN  \\\n",
       "2018-06-01 12:00:00         2.168340    102.168340     1.466800   \n",
       "2018-06-02 00:00:00         3.913718    103.951563     2.371330   \n",
       "2018-06-02 12:00:00         3.753635    103.785155    -0.317176   \n",
       "2018-06-03 00:00:00         4.732950    104.801539     4.921723   \n",
       "\n",
       "                     Ret_cum_ETHUSDT  Norm_ETHUSDT  Ret_ADAUSDT   \n",
       "Date                                                              \n",
       "2018-06-01 00:00:00              NaN    100.000000          NaN  \\\n",
       "2018-06-01 12:00:00         1.466800    101.466800     2.122335   \n",
       "2018-06-02 00:00:00         3.838130    103.872912     1.769671   \n",
       "2018-06-02 12:00:00         3.520953    103.543452     0.980917   \n",
       "2018-06-03 00:00:00         8.442676    108.639574     2.808195   \n",
       "\n",
       "                     Ret_cum_ADAUSDT  Norm_ADAUSDT  Ret_BNBUSDT   \n",
       "Date                                                              \n",
       "2018-06-01 00:00:00              NaN    100.000000          NaN  \\\n",
       "2018-06-01 12:00:00         2.122335    102.122335     3.692308   \n",
       "2018-06-02 00:00:00         3.892006    103.929564     1.478081   \n",
       "2018-06-02 12:00:00         4.872923    104.949027     1.194483   \n",
       "2018-06-03 00:00:00         7.681118    107.896200     0.769430   \n",
       "\n",
       "                     Ret_cum_BNBUSDT  Norm_BNBUSDT  \n",
       "Date                                                \n",
       "2018-06-01 00:00:00              NaN    100.000000  \n",
       "2018-06-01 12:00:00         3.692308    103.692308  \n",
       "2018-06-02 00:00:00         5.170388    105.224964  \n",
       "2018-06-02 12:00:00         6.364871    106.481858  \n",
       "2018-06-03 00:00:00         7.134301    107.301161  "
      ]
     },
     "execution_count": 12,
     "metadata": {},
     "output_type": "execute_result"
    }
   ],
   "source": [
    "df.head()"
   ]
  },
  {
   "cell_type": "code",
   "execution_count": 13,
   "metadata": {},
   "outputs": [],
   "source": [
    "def train_split(df, size:int):\n",
    "    percentage = int(len(df) * size)\n",
    "    data = df.iloc[:percentage]\n",
    "    data_test = df.iloc[percentage:]\n",
    "    \n",
    "    data.to_csv('../data/processed/data_processed.csv')\n",
    "    data_test.to_csv('../data/processed/data_test.csv')\n",
    "    \n",
    "    return len(data), len(data_test)"
   ]
  },
  {
   "cell_type": "code",
   "execution_count": 14,
   "metadata": {},
   "outputs": [
    {
     "data": {
      "text/plain": [
       "(2596, 1113)"
      ]
     },
     "execution_count": 14,
     "metadata": {},
     "output_type": "execute_result"
    }
   ],
   "source": [
    "train_split(df, 0.7)"
   ]
  },
  {
   "cell_type": "code",
   "execution_count": null,
   "metadata": {},
   "outputs": [],
   "source": []
  }
 ],
 "metadata": {
  "kernelspec": {
   "display_name": "Time_Series",
   "language": "python",
   "name": "python3"
  },
  "language_info": {
   "codemirror_mode": {
    "name": "ipython",
    "version": 3
   },
   "file_extension": ".py",
   "mimetype": "text/x-python",
   "name": "python",
   "nbconvert_exporter": "python",
   "pygments_lexer": "ipython3",
   "version": "3.10.0"
  },
  "orig_nbformat": 4
 },
 "nbformat": 4,
 "nbformat_minor": 2
}
