{
 "cells": [
  {
   "cell_type": "code",
   "execution_count": null,
   "metadata": {},
   "outputs": [],
   "source": [
    "import pandas as pd\n",
    "import seaborn as sns\n",
    "import numpy as np\n",
    "import pymysql\n",
    "\n",
    "\n",
    "from sqlalchemy import create_engine\n",
    "from tqdm import tqdm\n",
    "from binance import Client \n",
    "sns.set()\n",
    "pymysql.install_as_MySQLdb()\n"
   ]
  },
  {
   "cell_type": "code",
   "execution_count": null,
   "metadata": {},
   "outputs": [],
   "source": [
    "engine = create_engine('sqlite:///Binance_daily.db')"
   ]
  },
  {
   "cell_type": "code",
   "execution_count": null,
   "metadata": {},
   "outputs": [],
   "source": [
    "client = Client()"
   ]
  },
  {
   "cell_type": "code",
   "execution_count": null,
   "metadata": {},
   "outputs": [],
   "source": [
    "symbols = ['BTCUSDT','ETHUSDT', 'ADAUSDT', 'BNBUSDT']"
   ]
  },
  {
   "cell_type": "code",
   "execution_count": null,
   "metadata": {},
   "outputs": [],
   "source": [
    "def get_data(symbol, interval = client.KLINE_INTERVAL_12HOUR, start = '2018-06-01'):\n",
    "    temp = client.get_historical_klines(symbol, interval, start)\n",
    "    temp = pd.DataFrame(temp)\n",
    "    temp = temp.iloc[:,:6]\n",
    "    temp.columns = [\"Date\", \"Open\", \"High\", \"Low\", \"Close\", \"Volume\"]\n",
    "    temp.Date = pd.to_datetime(temp.Date, unit = \"ms\")\n",
    "    temp = temp.set_index(\"Date\", drop = True)\n",
    "    temp = temp.astype(float)\n",
    "    return temp"
   ]
  },
  {
   "cell_type": "code",
   "execution_count": null,
   "metadata": {},
   "outputs": [],
   "source": [
    "for coin in tqdm(symbols):\n",
    "    df = get_data(coin)\n",
    "    df.to_sql(coin, if_exists= 'replace', con = engine)"
   ]
  },
  {
   "cell_type": "code",
   "execution_count": null,
   "metadata": {},
   "outputs": [],
   "source": [
    "def qry(symbol):\n",
    "    df = pd.read_sql(symbol, engine)\n",
    "    df = df.set_index('Date')\n",
    "    df = df.asfreq('12H')\n",
    "    return df.Close"
   ]
  },
  {
   "cell_type": "code",
   "execution_count": null,
   "metadata": {},
   "outputs": [],
   "source": [
    "def apply_techinical(df):\n",
    "    \n",
    "    for column in df.columns.to_list():\n",
    "        #calculating returns\n",
    "        df[f'Ret_{column}'] = df[column].pct_change().mul(100)\n",
    "        df[f'Ret_cum_{column}'] = df[f'Ret_{column}'].cumsum()\n",
    "        #normalizing values\n",
    "        benchmark = df.loc[:,column][0]\n",
    "        df[f'Norm_{column}'] = df[column].div(benchmark).mul(100)\n",
    "    return df\n",
    "        "
   ]
  },
  {
   "cell_type": "code",
   "execution_count": null,
   "metadata": {},
   "outputs": [],
   "source": [
    "def process_coin(symbols):\n",
    "    df_list = []\n",
    "    \n",
    "    for coin in symbols:\n",
    "        df = qry(coin)\n",
    "        df.name = coin \n",
    "        df_list.append(df)\n",
    "    df = pd.DataFrame(df_list).T\n",
    "    df = apply_techinical(df)\n",
    "    \n",
    "    return df"
   ]
  },
  {
   "cell_type": "code",
   "execution_count": null,
   "metadata": {},
   "outputs": [],
   "source": [
    "df = process_coin(symbols = symbols)"
   ]
  },
  {
   "cell_type": "code",
   "execution_count": null,
   "metadata": {},
   "outputs": [],
   "source": [
    "df.head()"
   ]
  },
  {
   "cell_type": "code",
   "execution_count": null,
   "metadata": {},
   "outputs": [],
   "source": [
    "def train_split(df, size:int):\n",
    "    percentage = int(len(df) * size)\n",
    "    data = df.iloc[:percentage]\n",
    "    data_test = df.iloc[percentage:]\n",
    "    \n",
    "    data.to_csv('../data/processed/data_processed.csv')\n",
    "    data_test.to_csv('../data/processed/data_test.csv')\n",
    "    \n",
    "    return len(data), len(data_test)"
   ]
  },
  {
   "cell_type": "code",
   "execution_count": null,
   "metadata": {},
   "outputs": [],
   "source": [
    "train_split(df, 0.7)"
   ]
  },
  {
   "cell_type": "code",
   "execution_count": null,
   "metadata": {},
   "outputs": [],
   "source": []
  }
 ],
 "metadata": {
  "kernelspec": {
   "display_name": "Time_Series",
   "language": "python",
   "name": "python3"
  },
  "language_info": {
   "codemirror_mode": {
    "name": "ipython",
    "version": 3
   },
   "file_extension": ".py",
   "mimetype": "text/x-python",
   "name": "python",
   "nbconvert_exporter": "python",
   "pygments_lexer": "ipython3",
   "version": "3.10.0"
  },
  "orig_nbformat": 4
 },
 "nbformat": 4,
 "nbformat_minor": 2
}
